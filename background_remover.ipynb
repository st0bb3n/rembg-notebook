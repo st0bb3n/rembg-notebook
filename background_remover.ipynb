{
  "cells": [
    {
      "cell_type": "code",
      "execution_count": 29,
      "metadata": {
        "id": "3aydtd6LJ0JI"
      },
      "outputs": [],
      "source": [
        "from rembg import remove, new_session\n",
        "import numpy as np\n",
        "from PIL import Image\n",
        "\n"
      ]
    },
    {
      "cell_type": "markdown",
      "source": [
        "* u2net (download, source): A pre-trained model for general use cases.\n",
        "* u2netp (download, source): A lightweight version of u2net model.\n",
        "* u2net_human_seg (download, source): A pre-trained model for human segmentation.\n",
        "* u2net_cloth_seg (download, source): A pre-trained model for Cloths Parsing from human portrait. Here clothes are parsed into 3 category: Upper body, Lower body and Full body.\n",
        "* silueta (download, source): Same as u2net but the size is reduced to 43Mb.\n",
        "* isnet-general-use (download, source): A new pre-trained model for general use cases.\n",
        "* isnet-anime (download, source): A high-accuracy segmentation for anime character.\n",
        "* sam (download encoder, download decoder, source): A pre-trained model for any use cases."
      ],
      "metadata": {
        "id": "0TcRFXnVp4Kd"
      }
    },
    {
      "cell_type": "code",
      "execution_count": 37,
      "metadata": {
        "id": "lwjobEhPJ1bs"
      },
      "outputs": [],
      "source": [
        "# Load the input image\n",
        "input_image = Image.open('pig2.jpg')\n",
        "\n",
        "# Convert the input image to a numpy array\n",
        "input_array = np.array(input_image)\n",
        "\n",
        "# Choose model\n",
        "\n",
        "model_name = \"isnet-anime\"\n",
        "session = new_session(model_name)\n",
        "#output = remove(input, session=session)\n",
        "\n",
        "# Removal\n",
        "output_array = remove(input_array,\n",
        "                      session=session,\n",
        "                      post_process_mask=True,\n",
        "                      alpha_matting=True,\n",
        "                      alpha_matting_foreground_threshold=270,\n",
        "                      alpha_matting_background_threshold=20,\n",
        "                      alpha_matting_erode_size=15\n",
        "                      #bgcolor=(255, 255, 255, 255)\n",
        "                      )\n",
        "\n",
        "# Create a PIL Image from the output array\n",
        "output_image = Image.fromarray(output_array)\n",
        "\n",
        "# Save the output image\n",
        "output_image.save('output_image.png')\n",
        "\n",
        "#output_image"
      ]
    }
  ],
  "metadata": {
    "colab": {
      "provenance": []
    },
    "kernelspec": {
      "display_name": "Python 3",
      "name": "python3"
    },
    "language_info": {
      "name": "python"
    }
  },
  "nbformat": 4,
  "nbformat_minor": 0
}